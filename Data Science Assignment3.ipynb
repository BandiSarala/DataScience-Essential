{
 "cells": [
  {
   "cell_type": "markdown",
   "metadata": {},
   "source": [
    "# Questions 1:\n",
    "# Create a numpy array starting from 2 till 50 with a stepsize of 3."
   ]
  },
  {
   "cell_type": "code",
   "execution_count": 2,
   "metadata": {},
   "outputs": [
    {
     "name": "stdout",
     "output_type": "stream",
     "text": [
      "[ 2  5  8 11 14 17 20 23 26 29 32 35 38 41 44 47 50]\n"
     ]
    }
   ],
   "source": [
    "import numpy as np\n",
    "arr=np.arange(2,51,3)\n",
    "print(arr)"
   ]
  },
  {
   "cell_type": "markdown",
   "metadata": {},
   "source": [
    "# Questions 2:\n",
    "# Accept two lists of 5 elements each from the user.\n",
    "# Convert them to numpy arrays. Concatenate these arrays and print it. Also sort these arrays and print it."
   ]
  },
  {
   "cell_type": "code",
   "execution_count": 4,
   "metadata": {},
   "outputs": [
    {
     "name": "stdout",
     "output_type": "stream",
     "text": [
      "5\n",
      "9\n",
      "8\n",
      "7\n",
      "2\n",
      "[5, 9, 8, 7, 2]\n",
      "\n",
      "0\n",
      "3\n",
      "1\n",
      "45\n",
      "98\n",
      "[0, 3, 1, 45, 98]\n",
      "\n",
      "[ 5  9  8  7  2  0  3  1 45 98]\n",
      "[ 0  1  2  3  5  7  8  9 45 98]\n"
     ]
    }
   ],
   "source": [
    "ls1=[]\n",
    "for i in range(5):\n",
    "    x=int(input())\n",
    "    ls1.append(x)\n",
    "print(ls1)\n",
    "print()\n",
    "\n",
    "ls2=[]\n",
    "for i in range(5):\n",
    "    y=int(input())\n",
    "    ls2.append(y)\n",
    "print(ls2)\n",
    "print()\n",
    "\n",
    "arr1 = np.array(ls1)\n",
    "arr2 = np.array(ls2)\n",
    "arr3 = np.concatenate( (arr1,arr2) )\n",
    "print(arr3)\n",
    "print(np.sort(arr3))"
   ]
  },
  {
   "cell_type": "markdown",
   "metadata": {},
   "source": [
    "# Questions 3:\n",
    "# Write a code snippet to find the dimensions of a ndarray and its size."
   ]
  },
  {
   "cell_type": "code",
   "execution_count": 5,
   "metadata": {},
   "outputs": [
    {
     "name": "stdout",
     "output_type": "stream",
     "text": [
      "Number of dimensions 2\n",
      "The shape of the dimension (5, 4)\n",
      "Size of array 20\n"
     ]
    }
   ],
   "source": [
    "a = np.array([[1,2,3,4],[2,3,4,5],[4,5,6,7],[6,7,8,9],[0,1,2,3]])\n",
    "print(\"Number of dimensions\",a.ndim)\n",
    "print(\"The shape of the dimension\",a.shape)\n",
    "print(\"Size of array\",a.size)"
   ]
  },
  {
   "cell_type": "markdown",
   "metadata": {},
   "source": [
    "# Questions 4:\n",
    "\n",
    "# How to convert a 1D array into a 2D array? Demonstrate with the help of a code snippet\n",
    "# Hint: np.newaxis, np.expand_dims"
   ]
  },
  {
   "cell_type": "code",
   "execution_count": 6,
   "metadata": {},
   "outputs": [
    {
     "name": "stdout",
     "output_type": "stream",
     "text": [
      "[9 8 7 6 5 4 3 2 1 0]\n",
      "(10,)\n",
      "\n",
      "[[9 8 7 6 5 4 3 2 1 0]]\n",
      "(1, 10)\n"
     ]
    }
   ],
   "source": [
    "a_1d = np.array([9,8,7,6,5,4,3,2,1,0])\n",
    "a_2d = a_1d[np.newaxis]\n",
    "a2 = np.expand_dims(a_1d, axis=(1,-2,3))\n",
    "a2.shape\n",
    "\n",
    "print(a_1d)\n",
    "print(a_1d.shape)\n",
    "print()\n",
    "print(a_2d)\n",
    "print(a_2d.shape)"
   ]
  },
  {
   "cell_type": "markdown",
   "metadata": {},
   "source": [
    "# Questions 5:\n",
    "# Consider two square numpy arrays. Stack them vertically and horizontally.\n",
    "# Hint: Use vstack(), hstack()"
   ]
  },
  {
   "cell_type": "code",
   "execution_count": 11,
   "metadata": {},
   "outputs": [
    {
     "name": "stdout",
     "output_type": "stream",
     "text": [
      "Vertical Stack\n",
      "[[78 87]\n",
      " [26 62]\n",
      " [12 21]\n",
      " [41 14]\n",
      " [63 36]\n",
      " [90 91]]\n",
      "\n",
      "Horizontal Stack\n",
      "[[78 87 41 14]\n",
      " [26 62 63 36]\n",
      " [12 21 90 91]]\n"
     ]
    }
   ],
   "source": [
    "v = np.array([[78,87],[26,62],[12,21]])\n",
    "h = np.array([[41,14],[63,36],[90,91]])\n",
    "\n",
    "print(\"Vertical Stack\")\n",
    "print(np.vstack((v,h)))\n",
    "print()\n",
    "print(\"Horizontal Stack\")\n",
    "print(np.hstack((v,h)))"
   ]
  },
  {
   "cell_type": "markdown",
   "metadata": {},
   "source": [
    "# Questions 6:\n",
    "# How to get unique items and counts of unique items?"
   ]
  },
  {
   "cell_type": "code",
   "execution_count": 13,
   "metadata": {},
   "outputs": [
    {
     "name": "stdout",
     "output_type": "stream",
     "text": [
      "Unique Items: [ 0  1  2  3  4  5  6  7  8  9 22 45 58 65 75 85 95 97]\n",
      "Unique Items Count: [1 1 1 2 1 3 1 2 1 2 1 1 1 2 1 1 2 1]\n"
     ]
    }
   ],
   "source": [
    "x = np.array([9,8,7,6,5,4,3,2,1,0,5,9,7,5,65,97,58,65,45,75,85,95,22,95,3])\n",
    "unique, count = np.unique(x, return_counts = True)\n",
    "print(\"Unique Items:\",unique)\n",
    "print(\"Unique Items Count:\",count)"
   ]
  },
  {
   "cell_type": "code",
   "execution_count": null,
   "metadata": {},
   "outputs": [],
   "source": []
  }
 ],
 "metadata": {
  "kernelspec": {
   "display_name": "Python 3",
   "language": "python",
   "name": "python3"
  },
  "language_info": {
   "codemirror_mode": {
    "name": "ipython",
    "version": 3
   },
   "file_extension": ".py",
   "mimetype": "text/x-python",
   "name": "python",
   "nbconvert_exporter": "python",
   "pygments_lexer": "ipython3",
   "version": "3.8.3"
  }
 },
 "nbformat": 4,
 "nbformat_minor": 4
}
